{
 "cells": [
  {
   "cell_type": "code",
   "execution_count": 3,
   "metadata": {},
   "outputs": [],
   "source": [
    "import warnings\n",
    "warnings.filterwarnings('ignore')\n",
    "from sklearn.cluster import AgglomerativeClustering\n",
    "import matplotlib.pyplot as plt \n",
    "from datetime import datetime\n",
    "import lxml.etree as ET\n",
    "import pandas as pd\n",
    "import numpy as np\n",
    "import os"
   ]
  },
  {
   "cell_type": "markdown",
   "metadata": {},
   "source": [
    "# Create clusters by grouping articles that are about the same case\n",
    "\n",
    "\n",
    "\n",
    "STEPS:\n",
    "1. Create a distance matrix as 1 - [prob of being about the same case] for each pair of articles\n",
    "2. Apply a clustering algorithm\n",
    "3. Store clusters: cluster_id - tweet_id\n",
    "4. Store a dataframe with information about the articles and their associated cluster_id"
   ]
  },
  {
   "cell_type": "code",
   "execution_count": 6,
   "metadata": {},
   "outputs": [],
   "source": [
    "INPUT_FILE_PATH = 'data/cases_pariwise_proba_2020_1.csv'\n",
    "NEWS_PATH = 'data/news/'\n",
    "OUTPUT_PATH = 'data'"
   ]
  },
  {
   "cell_type": "markdown",
   "metadata": {},
   "source": [
    "## Step 1 - Create distance matrix"
   ]
  },
  {
   "cell_type": "code",
   "execution_count": 7,
   "metadata": {},
   "outputs": [],
   "source": [
    "pairs_df = pd.read_csv(INPUT_FILE_PATH)\n",
    "pairs_df['tweet_id_A'] = pairs_df['tweet_id_A'].apply(lambda x: str(x))\n",
    "pairs_df['tweet_id_B'] = pairs_df['tweet_id_B'].apply(lambda x: str(x))"
   ]
  },
  {
   "cell_type": "code",
   "execution_count": 8,
   "metadata": {},
   "outputs": [],
   "source": [
    "all_tweet_ids = list(set(np.concatenate([pairs_df['tweet_id_A'].unique(), pairs_df['tweet_id_B'].unique()])))\n",
    "mapping_keys = dict(zip(all_tweet_ids, range(len(all_tweet_ids))))\n",
    "mapping_pos  = dict(zip(list(mapping_keys.values()), list(mapping_keys.keys())))"
   ]
  },
  {
   "cell_type": "code",
   "execution_count": 12,
   "metadata": {},
   "outputs": [
    {
     "ename": "KeyError",
     "evalue": "'same_case_pred_proba'",
     "output_type": "error",
     "traceback": [
      "\u001b[0;31m---------------------------------------------------------------------------\u001b[0m",
      "\u001b[0;31mKeyError\u001b[0m                                  Traceback (most recent call last)",
      "\u001b[0;32m/usr/local/lib/python3.8/dist-packages/pandas/core/indexes/base.py\u001b[0m in \u001b[0;36mget_loc\u001b[0;34m(self, key, method, tolerance)\u001b[0m\n\u001b[1;32m   3620\u001b[0m             \u001b[0;32mtry\u001b[0m\u001b[0;34m:\u001b[0m\u001b[0;34m\u001b[0m\u001b[0;34m\u001b[0m\u001b[0m\n\u001b[0;32m-> 3621\u001b[0;31m                 \u001b[0;32mreturn\u001b[0m \u001b[0mself\u001b[0m\u001b[0;34m.\u001b[0m\u001b[0m_engine\u001b[0m\u001b[0;34m.\u001b[0m\u001b[0mget_loc\u001b[0m\u001b[0;34m(\u001b[0m\u001b[0mcasted_key\u001b[0m\u001b[0;34m)\u001b[0m\u001b[0;34m\u001b[0m\u001b[0;34m\u001b[0m\u001b[0m\n\u001b[0m\u001b[1;32m   3622\u001b[0m             \u001b[0;32mexcept\u001b[0m \u001b[0mKeyError\u001b[0m \u001b[0;32mas\u001b[0m \u001b[0merr\u001b[0m\u001b[0;34m:\u001b[0m\u001b[0;34m\u001b[0m\u001b[0;34m\u001b[0m\u001b[0m\n",
      "\u001b[0;32m/usr/local/lib/python3.8/dist-packages/pandas/_libs/index.pyx\u001b[0m in \u001b[0;36mpandas._libs.index.IndexEngine.get_loc\u001b[0;34m()\u001b[0m\n",
      "\u001b[0;32m/usr/local/lib/python3.8/dist-packages/pandas/_libs/index.pyx\u001b[0m in \u001b[0;36mpandas._libs.index.IndexEngine.get_loc\u001b[0;34m()\u001b[0m\n",
      "\u001b[0;32mpandas/_libs/hashtable_class_helper.pxi\u001b[0m in \u001b[0;36mpandas._libs.hashtable.PyObjectHashTable.get_item\u001b[0;34m()\u001b[0m\n",
      "\u001b[0;32mpandas/_libs/hashtable_class_helper.pxi\u001b[0m in \u001b[0;36mpandas._libs.hashtable.PyObjectHashTable.get_item\u001b[0;34m()\u001b[0m\n",
      "\u001b[0;31mKeyError\u001b[0m: 'same_case_pred_proba'",
      "\nThe above exception was the direct cause of the following exception:\n",
      "\u001b[0;31mKeyError\u001b[0m                                  Traceback (most recent call last)",
      "\u001b[0;32m<ipython-input-12-e6d718bf1abc>\u001b[0m in \u001b[0;36m<module>\u001b[0;34m\u001b[0m\n\u001b[1;32m      4\u001b[0m     \u001b[0mpos_A\u001b[0m \u001b[0;34m=\u001b[0m \u001b[0mmapping_keys\u001b[0m\u001b[0;34m[\u001b[0m\u001b[0mrow\u001b[0m\u001b[0;34m[\u001b[0m\u001b[0;34m'tweet_id_A'\u001b[0m\u001b[0;34m]\u001b[0m\u001b[0;34m]\u001b[0m\u001b[0;34m\u001b[0m\u001b[0;34m\u001b[0m\u001b[0m\n\u001b[1;32m      5\u001b[0m     \u001b[0mpos_B\u001b[0m \u001b[0;34m=\u001b[0m \u001b[0mmapping_keys\u001b[0m\u001b[0;34m[\u001b[0m\u001b[0mrow\u001b[0m\u001b[0;34m[\u001b[0m\u001b[0;34m'tweet_id_B'\u001b[0m\u001b[0;34m]\u001b[0m\u001b[0;34m]\u001b[0m\u001b[0;34m\u001b[0m\u001b[0;34m\u001b[0m\u001b[0m\n\u001b[0;32m----> 6\u001b[0;31m     \u001b[0mproba\u001b[0m \u001b[0;34m=\u001b[0m \u001b[0mrow\u001b[0m\u001b[0;34m[\u001b[0m\u001b[0;34m'same_case_pred_proba'\u001b[0m\u001b[0;34m]\u001b[0m\u001b[0;34m\u001b[0m\u001b[0;34m\u001b[0m\u001b[0m\n\u001b[0m\u001b[1;32m      7\u001b[0m \u001b[0;34m\u001b[0m\u001b[0m\n\u001b[1;32m      8\u001b[0m     \u001b[0mproba_matrix\u001b[0m\u001b[0;34m[\u001b[0m\u001b[0mpos_A\u001b[0m\u001b[0;34m,\u001b[0m \u001b[0mpos_B\u001b[0m\u001b[0;34m]\u001b[0m \u001b[0;34m=\u001b[0m \u001b[0;36m1\u001b[0m \u001b[0;34m-\u001b[0m \u001b[0mproba\u001b[0m\u001b[0;34m\u001b[0m\u001b[0;34m\u001b[0m\u001b[0m\n",
      "\u001b[0;32m/usr/local/lib/python3.8/dist-packages/pandas/core/series.py\u001b[0m in \u001b[0;36m__getitem__\u001b[0;34m(self, key)\u001b[0m\n\u001b[1;32m    956\u001b[0m \u001b[0;34m\u001b[0m\u001b[0m\n\u001b[1;32m    957\u001b[0m         \u001b[0;32melif\u001b[0m \u001b[0mkey_is_scalar\u001b[0m\u001b[0;34m:\u001b[0m\u001b[0;34m\u001b[0m\u001b[0;34m\u001b[0m\u001b[0m\n\u001b[0;32m--> 958\u001b[0;31m             \u001b[0;32mreturn\u001b[0m \u001b[0mself\u001b[0m\u001b[0;34m.\u001b[0m\u001b[0m_get_value\u001b[0m\u001b[0;34m(\u001b[0m\u001b[0mkey\u001b[0m\u001b[0;34m)\u001b[0m\u001b[0;34m\u001b[0m\u001b[0;34m\u001b[0m\u001b[0m\n\u001b[0m\u001b[1;32m    959\u001b[0m \u001b[0;34m\u001b[0m\u001b[0m\n\u001b[1;32m    960\u001b[0m         \u001b[0;32mif\u001b[0m \u001b[0mis_hashable\u001b[0m\u001b[0;34m(\u001b[0m\u001b[0mkey\u001b[0m\u001b[0;34m)\u001b[0m\u001b[0;34m:\u001b[0m\u001b[0;34m\u001b[0m\u001b[0;34m\u001b[0m\u001b[0m\n",
      "\u001b[0;32m/usr/local/lib/python3.8/dist-packages/pandas/core/series.py\u001b[0m in \u001b[0;36m_get_value\u001b[0;34m(self, label, takeable)\u001b[0m\n\u001b[1;32m   1067\u001b[0m \u001b[0;34m\u001b[0m\u001b[0m\n\u001b[1;32m   1068\u001b[0m         \u001b[0;31m# Similar to Index.get_value, but we do not fall back to positional\u001b[0m\u001b[0;34m\u001b[0m\u001b[0;34m\u001b[0m\u001b[0;34m\u001b[0m\u001b[0m\n\u001b[0;32m-> 1069\u001b[0;31m         \u001b[0mloc\u001b[0m \u001b[0;34m=\u001b[0m \u001b[0mself\u001b[0m\u001b[0;34m.\u001b[0m\u001b[0mindex\u001b[0m\u001b[0;34m.\u001b[0m\u001b[0mget_loc\u001b[0m\u001b[0;34m(\u001b[0m\u001b[0mlabel\u001b[0m\u001b[0;34m)\u001b[0m\u001b[0;34m\u001b[0m\u001b[0;34m\u001b[0m\u001b[0m\n\u001b[0m\u001b[1;32m   1070\u001b[0m         \u001b[0;32mreturn\u001b[0m \u001b[0mself\u001b[0m\u001b[0;34m.\u001b[0m\u001b[0mindex\u001b[0m\u001b[0;34m.\u001b[0m\u001b[0m_get_values_for_loc\u001b[0m\u001b[0;34m(\u001b[0m\u001b[0mself\u001b[0m\u001b[0;34m,\u001b[0m \u001b[0mloc\u001b[0m\u001b[0;34m,\u001b[0m \u001b[0mlabel\u001b[0m\u001b[0;34m)\u001b[0m\u001b[0;34m\u001b[0m\u001b[0;34m\u001b[0m\u001b[0m\n\u001b[1;32m   1071\u001b[0m \u001b[0;34m\u001b[0m\u001b[0m\n",
      "\u001b[0;32m/usr/local/lib/python3.8/dist-packages/pandas/core/indexes/base.py\u001b[0m in \u001b[0;36mget_loc\u001b[0;34m(self, key, method, tolerance)\u001b[0m\n\u001b[1;32m   3621\u001b[0m                 \u001b[0;32mreturn\u001b[0m \u001b[0mself\u001b[0m\u001b[0;34m.\u001b[0m\u001b[0m_engine\u001b[0m\u001b[0;34m.\u001b[0m\u001b[0mget_loc\u001b[0m\u001b[0;34m(\u001b[0m\u001b[0mcasted_key\u001b[0m\u001b[0;34m)\u001b[0m\u001b[0;34m\u001b[0m\u001b[0;34m\u001b[0m\u001b[0m\n\u001b[1;32m   3622\u001b[0m             \u001b[0;32mexcept\u001b[0m \u001b[0mKeyError\u001b[0m \u001b[0;32mas\u001b[0m \u001b[0merr\u001b[0m\u001b[0;34m:\u001b[0m\u001b[0;34m\u001b[0m\u001b[0;34m\u001b[0m\u001b[0m\n\u001b[0;32m-> 3623\u001b[0;31m                 \u001b[0;32mraise\u001b[0m \u001b[0mKeyError\u001b[0m\u001b[0;34m(\u001b[0m\u001b[0mkey\u001b[0m\u001b[0;34m)\u001b[0m \u001b[0;32mfrom\u001b[0m \u001b[0merr\u001b[0m\u001b[0;34m\u001b[0m\u001b[0;34m\u001b[0m\u001b[0m\n\u001b[0m\u001b[1;32m   3624\u001b[0m             \u001b[0;32mexcept\u001b[0m \u001b[0mTypeError\u001b[0m\u001b[0;34m:\u001b[0m\u001b[0;34m\u001b[0m\u001b[0;34m\u001b[0m\u001b[0m\n\u001b[1;32m   3625\u001b[0m                 \u001b[0;31m# If we have a listlike key, _check_indexing_error will raise\u001b[0m\u001b[0;34m\u001b[0m\u001b[0;34m\u001b[0m\u001b[0;34m\u001b[0m\u001b[0m\n",
      "\u001b[0;31mKeyError\u001b[0m: 'same_case_pred_proba'"
     ]
    }
   ],
   "source": [
    "N = len(mapping_keys)\n",
    "proba_matrix = np.zeros(shape=(N,N))\n",
    "for i, row in pairs_df.iterrows():\n",
    "    pos_A = mapping_keys[row['tweet_id_A']]\n",
    "    pos_B = mapping_keys[row['tweet_id_B']]\n",
    "    proba = row['same_case_pred_proba']\n",
    "    \n",
    "    proba_matrix[pos_A, pos_B] = 1 - proba\n",
    "    proba_matrix[pos_B, pos_A] = 1 - proba"
   ]
  },
  {
   "cell_type": "code",
   "execution_count": 6,
   "metadata": {},
   "outputs": [
    {
     "data": {
      "text/plain": [
       "array([[0.        , 0.98095192, 0.98904311, ..., 0.99076081, 0.98928998,\n",
       "        0.9967784 ],\n",
       "       [0.98095192, 0.        , 0.98908946, ..., 0.98282987, 0.98783217,\n",
       "        0.99504073],\n",
       "       [0.98904311, 0.98908946, 0.        , ..., 0.98872657, 0.99219248,\n",
       "        0.98743794],\n",
       "       ...,\n",
       "       [0.99076081, 0.98282987, 0.98872657, ..., 0.        , 0.99093627,\n",
       "        0.99682909],\n",
       "       [0.98928998, 0.98783217, 0.99219248, ..., 0.99093627, 0.        ,\n",
       "        0.99763454],\n",
       "       [0.9967784 , 0.99504073, 0.98743794, ..., 0.99682909, 0.99763454,\n",
       "        0.        ]])"
      ]
     },
     "execution_count": 6,
     "metadata": {},
     "output_type": "execute_result"
    }
   ],
   "source": [
    "proba_matrix"
   ]
  },
  {
   "cell_type": "markdown",
   "metadata": {},
   "source": [
    "## Step 2- Agglomerative clustering without number of clusters"
   ]
  },
  {
   "cell_type": "code",
   "execution_count": 25,
   "metadata": {},
   "outputs": [
    {
     "name": "stdout",
     "output_type": "stream",
     "text": [
      "AgglomerativeClustering(affinity='precomputed', distance_threshold=0.001,\n",
      "                        linkage='average', n_clusters=None)\n"
     ]
    }
   ],
   "source": [
    "# ward linkage cannot be used with precomputed affinity \n",
    "clustering = AgglomerativeClustering(n_clusters = None, affinity='precomputed',\n",
    "                                     distance_threshold=0.001, linkage='average')\n",
    "c_dict = {}\n",
    "c = clustering.fit(proba_matrix)\n",
    "print(c)\n",
    "c_labels = clustering.fit_predict(proba_matrix)\n",
    "\n",
    "for i, cluster_id in enumerate(c_labels):\n",
    "    try:\n",
    "        c_dict[cluster_id].append(mapping_pos[i])\n",
    "    except:\n",
    "        c_dict[cluster_id] = [mapping_pos[i]]"
   ]
  },
  {
   "cell_type": "code",
   "execution_count": 26,
   "metadata": {},
   "outputs": [
    {
     "data": {
      "image/png": "[encoded data removed]",
      "text/plain": [
       "<Figure size 1440x720 with 1 Axes>"
      ]
     },
     "metadata": {
      "needs_background": "light"
     },
     "output_type": "display_data"
    }
   ],
   "source": [
    "cases_length = [len(items) for key, items in c_dict.items()]\n",
    "\n",
    "f = plt.figure(figsize = (20,10))\n",
    "plt.title('Histogram of number of articles for each case')\n",
    "plt.hist(cases_length)\n",
    "plt.xlabel('Number of articles per case')\n",
    "plt.ylabel('Absolute frequency')\n",
    "plt.show()"
   ]
  },
  {
   "cell_type": "code",
   "execution_count": 27,
   "metadata": {},
   "outputs": [
    {
     "data": {
      "text/plain": [
       "{'affinity': 'precomputed',\n",
       " 'compute_distances': False,\n",
       " 'compute_full_tree': 'auto',\n",
       " 'connectivity': None,\n",
       " 'distance_threshold': 0.001,\n",
       " 'linkage': 'average',\n",
       " 'memory': None,\n",
       " 'n_clusters': None}"
      ]
     },
     "execution_count": 27,
     "metadata": {},
     "output_type": "execute_result"
    }
   ],
   "source": [
    "clustering.get_params()"
   ]
  },
  {
   "cell_type": "markdown",
   "metadata": {},
   "source": [
    "### Steps 3 and 4 - Store the data in two different formats\n",
    "- cases_ids.csv --> for working later with the clusters\n",
    "- cases_info.csv --> for visualization purposes"
   ]
  },
  {
   "cell_type": "code",
   "execution_count": 28,
   "metadata": {},
   "outputs": [],
   "source": [
    "cases_df = pd.DataFrame(columns=['case_id', 'tweet_ids'])\n",
    "for case_id, list_t in c_dict.items():\n",
    "    cases_df = cases_df.append({'case_id': case_id, 'tweet_ids': list_t}, ignore_index = True)\n",
    "\n",
    "\n",
    "cases_df.to_csv(f'data/cases_ids.csv', index = False)"
   ]
  },
  {
   "cell_type": "code",
   "execution_count": 29,
   "metadata": {},
   "outputs": [],
   "source": [
    "def listdir_checked(path, unwanted = ['.DS_Store']):\n",
    "    '''\n",
    "    Discard unwanted files or directories when listing the elements in a given path\n",
    "    '''\n",
    "    return (f for f in os.listdir(path) if f not in unwanted)\n",
    "\n",
    "\n",
    "def create_articles_dictionary(NEWS_PATH):\n",
    "    '''\n",
    "    Import articles information.\n",
    "    Articles are stored in directories in the NEWS_PATH.\n",
    "    '''\n",
    "    data = {}               # keys: media, value: list of dictionaries with info about the news articles of the given media\n",
    "    unique_urls = []        # list to store unique urls to discard repeated ones\n",
    "    repeated_data = {}      # store repeated articles following the same format as 'data' dictionary\n",
    "\n",
    "    for year in listdir_checked(NEWS_PATH):\n",
    "        if year=='2020':\n",
    "            for month in listdir_checked(NEWS_PATH + '/' + year):\n",
    "                for file in listdir_checked(NEWS_PATH + '/' + year + '/' + month):\n",
    "                    full_path = NEWS_PATH + '/' + year + '/' + month + '/' + file\n",
    "                    # Read xml file - info stored following NewsML-G2 format\n",
    "                    root = ET.parse(full_path).getroot()\n",
    "                    # Parse news\n",
    "                    media = file.rsplit('_', 1)[0]\n",
    "                    # Check repeated urls\n",
    "                    url = root.findall(\".//infoSource\")[0].get(\"uri\")\n",
    "                    str_date = root.findall('.//contentMeta')[0].find('contentCreated').text[:10]\n",
    "                    info = {\n",
    "                        'id': file.split(':')[-1].replace('.xml', ''),\n",
    "                        'media': media,\n",
    "                        'publication_date': datetime.strptime(str_date, '%Y-%m-%d'),\n",
    "                        'title': root.findall('.//itemRef')[0].find('title').text,\n",
    "                        'headline': root.findall(\".//itemRef\")[0].find('description').text.strip(),\n",
    "                        'article': root.findall('.//itemRef')[1].find('description').text.strip(),\n",
    "                        'url': url\n",
    "                    }\n",
    "\n",
    "                    if url not in unique_urls:\n",
    "                        unique_urls.append(url)\n",
    "                        try:\n",
    "                            data[media].append(info)\n",
    "                        except:\n",
    "                            data[media] = [info]\n",
    "\n",
    "                    else:\n",
    "                        try:\n",
    "                            repeated_data[media].append(info)\n",
    "                        except:\n",
    "                            repeated_data[media] = [info]\n",
    "                    \n",
    "    return data, repeated_data\n",
    "\n",
    "\n",
    "def get_data_info(data, dict_key, value):\n",
    "    '''\n",
    "    Aux function to obtain the info of the articles with the given \n",
    "    value for the provided dict_key in data\n",
    "    '''\n",
    "    matching_elements = []\n",
    "    for media, news in data.items():\n",
    "        for article in news:\n",
    "            if article[dict_key] == value:\n",
    "                matching_elements.append(article)\n",
    "    return matching_elements\n"
   ]
  },
  {
   "cell_type": "code",
   "execution_count": 30,
   "metadata": {},
   "outputs": [],
   "source": [
    "# IMPORT INFORMATION ABOUT ARTICLES\n",
    "data, repeated_data = create_articles_dictionary(NEWS_PATH)"
   ]
  },
  {
   "cell_type": "code",
   "execution_count": 31,
   "metadata": {},
   "outputs": [],
   "source": [
    "clusters_df = pd.DataFrame(columns = ['cluster_id', 'tweet_id', 'article_title', 'media'])\n",
    "for i, row in cases_df.iterrows():\n",
    "    for t_id in row['tweet_ids']:\n",
    "        try:\n",
    "            clusters_df = clusters_df.append({'cluster_id': row['case_id'], \n",
    "                                              'tweet_id': t_id, \n",
    "                                              'article_title': get_data_info(data,'id', t_id)[0]['title'],\n",
    "                                              'media': get_data_info(data, 'id', t_id)[0]['media']},\n",
    "                                            ignore_index = True)  \n",
    "        except:\n",
    "            pass\n",
    "        \n",
    "clusters_df.to_csv(f'{OUTPUT_PATH}/cases_info.csv', index=False)"
   ]
  },
  {
   "cell_type": "code",
   "execution_count": null,
   "metadata": {},
   "outputs": [],
   "source": []
  },
  {
   "cell_type": "code",
   "execution_count": null,
   "metadata": {},
   "outputs": [],
   "source": []
  }
 ],
 "metadata": {
  "kernelspec": {
   "display_name": "Python 3",
   "language": "python",
   "name": "python3"
  },
  "language_info": {
   "codemirror_mode": {
    "name": "ipython",
    "version": 3
   },
   "file_extension": ".py",
   "mimetype": "text/x-python",
   "name": "python",
   "nbconvert_exporter": "python",
   "pygments_lexer": "ipython3",
   "version": "3.8.10"
  }
 },
 "nbformat": 4,
 "nbformat_minor": 2
}
